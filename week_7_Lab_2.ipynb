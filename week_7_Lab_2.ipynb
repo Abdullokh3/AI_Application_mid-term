{
  "nbformat": 4,
  "nbformat_minor": 0,
  "metadata": {
    "colab": {
      "provenance": [],
      "collapsed_sections": [],
      "authorship_tag": "ABX9TyMWadkNj0MoFYQ+FSBMdLPJ",
      "include_colab_link": true
    },
    "kernelspec": {
      "name": "python3",
      "display_name": "Python 3"
    },
    "language_info": {
      "name": "python"
    },
    "accelerator": "GPU",
    "widgets": {
      "application/vnd.jupyter.widget-state+json": {
        "4d22509ac58340888c7e77e488595ac7": {
          "model_module": "@jupyter-widgets/controls",
          "model_name": "HBoxModel",
          "model_module_version": "1.5.0",
          "state": {
            "_dom_classes": [],
            "_model_module": "@jupyter-widgets/controls",
            "_model_module_version": "1.5.0",
            "_model_name": "HBoxModel",
            "_view_count": null,
            "_view_module": "@jupyter-widgets/controls",
            "_view_module_version": "1.5.0",
            "_view_name": "HBoxView",
            "box_style": "",
            "children": [
              "IPY_MODEL_e79f38787d104568b7fc7368b0db6782",
              "IPY_MODEL_589cbf468d7b428db92486626e0e4bf1",
              "IPY_MODEL_ae91a4c100c3467ca755d6a2e62a0b57"
            ],
            "layout": "IPY_MODEL_e1ea54cced6e400f96ac42dc7f53316d"
          }
        },
        "e79f38787d104568b7fc7368b0db6782": {
          "model_module": "@jupyter-widgets/controls",
          "model_name": "HTMLModel",
          "model_module_version": "1.5.0",
          "state": {
            "_dom_classes": [],
            "_model_module": "@jupyter-widgets/controls",
            "_model_module_version": "1.5.0",
            "_model_name": "HTMLModel",
            "_view_count": null,
            "_view_module": "@jupyter-widgets/controls",
            "_view_module_version": "1.5.0",
            "_view_name": "HTMLView",
            "description": "",
            "description_tooltip": null,
            "layout": "IPY_MODEL_b4032dab22364193b9adc37c0d8b31d7",
            "placeholder": "​",
            "style": "IPY_MODEL_96f31da8fe95487195ae9bc9b3f0410b",
            "value": "100%"
          }
        },
        "589cbf468d7b428db92486626e0e4bf1": {
          "model_module": "@jupyter-widgets/controls",
          "model_name": "FloatProgressModel",
          "model_module_version": "1.5.0",
          "state": {
            "_dom_classes": [],
            "_model_module": "@jupyter-widgets/controls",
            "_model_module_version": "1.5.0",
            "_model_name": "FloatProgressModel",
            "_view_count": null,
            "_view_module": "@jupyter-widgets/controls",
            "_view_module_version": "1.5.0",
            "_view_name": "ProgressView",
            "bar_style": "success",
            "description": "",
            "description_tooltip": null,
            "layout": "IPY_MODEL_c9562c6f31bb499a9d307617f1226fb8",
            "max": 170498071,
            "min": 0,
            "orientation": "horizontal",
            "style": "IPY_MODEL_83615069038b48fd8804e7fa9f586b1d",
            "value": 170498071
          }
        },
        "ae91a4c100c3467ca755d6a2e62a0b57": {
          "model_module": "@jupyter-widgets/controls",
          "model_name": "HTMLModel",
          "model_module_version": "1.5.0",
          "state": {
            "_dom_classes": [],
            "_model_module": "@jupyter-widgets/controls",
            "_model_module_version": "1.5.0",
            "_model_name": "HTMLModel",
            "_view_count": null,
            "_view_module": "@jupyter-widgets/controls",
            "_view_module_version": "1.5.0",
            "_view_name": "HTMLView",
            "description": "",
            "description_tooltip": null,
            "layout": "IPY_MODEL_67293374747e40faacee6a31fda9a9f7",
            "placeholder": "​",
            "style": "IPY_MODEL_03ee754e5d6e49669777f81785be1d9e",
            "value": " 170498071/170498071 [00:03&lt;00:00, 55694265.24it/s]"
          }
        },
        "e1ea54cced6e400f96ac42dc7f53316d": {
          "model_module": "@jupyter-widgets/base",
          "model_name": "LayoutModel",
          "model_module_version": "1.2.0",
          "state": {
            "_model_module": "@jupyter-widgets/base",
            "_model_module_version": "1.2.0",
            "_model_name": "LayoutModel",
            "_view_count": null,
            "_view_module": "@jupyter-widgets/base",
            "_view_module_version": "1.2.0",
            "_view_name": "LayoutView",
            "align_content": null,
            "align_items": null,
            "align_self": null,
            "border": null,
            "bottom": null,
            "display": null,
            "flex": null,
            "flex_flow": null,
            "grid_area": null,
            "grid_auto_columns": null,
            "grid_auto_flow": null,
            "grid_auto_rows": null,
            "grid_column": null,
            "grid_gap": null,
            "grid_row": null,
            "grid_template_areas": null,
            "grid_template_columns": null,
            "grid_template_rows": null,
            "height": null,
            "justify_content": null,
            "justify_items": null,
            "left": null,
            "margin": null,
            "max_height": null,
            "max_width": null,
            "min_height": null,
            "min_width": null,
            "object_fit": null,
            "object_position": null,
            "order": null,
            "overflow": null,
            "overflow_x": null,
            "overflow_y": null,
            "padding": null,
            "right": null,
            "top": null,
            "visibility": null,
            "width": null
          }
        },
        "b4032dab22364193b9adc37c0d8b31d7": {
          "model_module": "@jupyter-widgets/base",
          "model_name": "LayoutModel",
          "model_module_version": "1.2.0",
          "state": {
            "_model_module": "@jupyter-widgets/base",
            "_model_module_version": "1.2.0",
            "_model_name": "LayoutModel",
            "_view_count": null,
            "_view_module": "@jupyter-widgets/base",
            "_view_module_version": "1.2.0",
            "_view_name": "LayoutView",
            "align_content": null,
            "align_items": null,
            "align_self": null,
            "border": null,
            "bottom": null,
            "display": null,
            "flex": null,
            "flex_flow": null,
            "grid_area": null,
            "grid_auto_columns": null,
            "grid_auto_flow": null,
            "grid_auto_rows": null,
            "grid_column": null,
            "grid_gap": null,
            "grid_row": null,
            "grid_template_areas": null,
            "grid_template_columns": null,
            "grid_template_rows": null,
            "height": null,
            "justify_content": null,
            "justify_items": null,
            "left": null,
            "margin": null,
            "max_height": null,
            "max_width": null,
            "min_height": null,
            "min_width": null,
            "object_fit": null,
            "object_position": null,
            "order": null,
            "overflow": null,
            "overflow_x": null,
            "overflow_y": null,
            "padding": null,
            "right": null,
            "top": null,
            "visibility": null,
            "width": null
          }
        },
        "96f31da8fe95487195ae9bc9b3f0410b": {
          "model_module": "@jupyter-widgets/controls",
          "model_name": "DescriptionStyleModel",
          "model_module_version": "1.5.0",
          "state": {
            "_model_module": "@jupyter-widgets/controls",
            "_model_module_version": "1.5.0",
            "_model_name": "DescriptionStyleModel",
            "_view_count": null,
            "_view_module": "@jupyter-widgets/base",
            "_view_module_version": "1.2.0",
            "_view_name": "StyleView",
            "description_width": ""
          }
        },
        "c9562c6f31bb499a9d307617f1226fb8": {
          "model_module": "@jupyter-widgets/base",
          "model_name": "LayoutModel",
          "model_module_version": "1.2.0",
          "state": {
            "_model_module": "@jupyter-widgets/base",
            "_model_module_version": "1.2.0",
            "_model_name": "LayoutModel",
            "_view_count": null,
            "_view_module": "@jupyter-widgets/base",
            "_view_module_version": "1.2.0",
            "_view_name": "LayoutView",
            "align_content": null,
            "align_items": null,
            "align_self": null,
            "border": null,
            "bottom": null,
            "display": null,
            "flex": null,
            "flex_flow": null,
            "grid_area": null,
            "grid_auto_columns": null,
            "grid_auto_flow": null,
            "grid_auto_rows": null,
            "grid_column": null,
            "grid_gap": null,
            "grid_row": null,
            "grid_template_areas": null,
            "grid_template_columns": null,
            "grid_template_rows": null,
            "height": null,
            "justify_content": null,
            "justify_items": null,
            "left": null,
            "margin": null,
            "max_height": null,
            "max_width": null,
            "min_height": null,
            "min_width": null,
            "object_fit": null,
            "object_position": null,
            "order": null,
            "overflow": null,
            "overflow_x": null,
            "overflow_y": null,
            "padding": null,
            "right": null,
            "top": null,
            "visibility": null,
            "width": null
          }
        },
        "83615069038b48fd8804e7fa9f586b1d": {
          "model_module": "@jupyter-widgets/controls",
          "model_name": "ProgressStyleModel",
          "model_module_version": "1.5.0",
          "state": {
            "_model_module": "@jupyter-widgets/controls",
            "_model_module_version": "1.5.0",
            "_model_name": "ProgressStyleModel",
            "_view_count": null,
            "_view_module": "@jupyter-widgets/base",
            "_view_module_version": "1.2.0",
            "_view_name": "StyleView",
            "bar_color": null,
            "description_width": ""
          }
        },
        "67293374747e40faacee6a31fda9a9f7": {
          "model_module": "@jupyter-widgets/base",
          "model_name": "LayoutModel",
          "model_module_version": "1.2.0",
          "state": {
            "_model_module": "@jupyter-widgets/base",
            "_model_module_version": "1.2.0",
            "_model_name": "LayoutModel",
            "_view_count": null,
            "_view_module": "@jupyter-widgets/base",
            "_view_module_version": "1.2.0",
            "_view_name": "LayoutView",
            "align_content": null,
            "align_items": null,
            "align_self": null,
            "border": null,
            "bottom": null,
            "display": null,
            "flex": null,
            "flex_flow": null,
            "grid_area": null,
            "grid_auto_columns": null,
            "grid_auto_flow": null,
            "grid_auto_rows": null,
            "grid_column": null,
            "grid_gap": null,
            "grid_row": null,
            "grid_template_areas": null,
            "grid_template_columns": null,
            "grid_template_rows": null,
            "height": null,
            "justify_content": null,
            "justify_items": null,
            "left": null,
            "margin": null,
            "max_height": null,
            "max_width": null,
            "min_height": null,
            "min_width": null,
            "object_fit": null,
            "object_position": null,
            "order": null,
            "overflow": null,
            "overflow_x": null,
            "overflow_y": null,
            "padding": null,
            "right": null,
            "top": null,
            "visibility": null,
            "width": null
          }
        },
        "03ee754e5d6e49669777f81785be1d9e": {
          "model_module": "@jupyter-widgets/controls",
          "model_name": "DescriptionStyleModel",
          "model_module_version": "1.5.0",
          "state": {
            "_model_module": "@jupyter-widgets/controls",
            "_model_module_version": "1.5.0",
            "_model_name": "DescriptionStyleModel",
            "_view_count": null,
            "_view_module": "@jupyter-widgets/base",
            "_view_module_version": "1.2.0",
            "_view_name": "StyleView",
            "description_width": ""
          }
        }
      }
    }
  },
  "cells": [
    {
      "cell_type": "markdown",
      "metadata": {
        "id": "view-in-github",
        "colab_type": "text"
      },
      "source": [
        "<a href=\"https://colab.research.google.com/github/Abdullokh3/AI_Application_mid-term/blob/main/week_7_Lab_2.ipynb\" target=\"_parent\"><img src=\"https://colab.research.google.com/assets/colab-badge.svg\" alt=\"Open In Colab\"/></a>"
      ]
    },
    {
      "cell_type": "markdown",
      "source": [
        "#     MID TERM EXAM"
      ],
      "metadata": {
        "id": "9OnRlXMGeQ7D"
      }
    },
    {
      "cell_type": "code",
      "execution_count": null,
      "metadata": {
        "colab": {
          "base_uri": "https://localhost:8080/"
        },
        "id": "kyvNx2OUaGZp",
        "outputId": "b8f16b8a-8aa0-427b-d392-8d4defd1b681"
      },
      "outputs": [
        {
          "output_type": "stream",
          "name": "stdout",
          "text": [
            "Looking in indexes: https://pypi.org/simple, https://us-python.pkg.dev/colab-wheels/public/simple/\n",
            "Requirement already satisfied: requests in /usr/local/lib/python3.7/dist-packages (2.23.0)\n",
            "Requirement already satisfied: urllib3!=1.25.0,!=1.25.1,<1.26,>=1.21.1 in /usr/local/lib/python3.7/dist-packages (from requests) (1.24.3)\n",
            "Requirement already satisfied: idna<3,>=2.5 in /usr/local/lib/python3.7/dist-packages (from requests) (2.10)\n",
            "Requirement already satisfied: certifi>=2017.4.17 in /usr/local/lib/python3.7/dist-packages (from requests) (2022.9.24)\n",
            "Requirement already satisfied: chardet<4,>=3.0.2 in /usr/local/lib/python3.7/dist-packages (from requests) (3.0.4)\n"
          ]
        }
      ],
      "source": [
        "!pip install requests"
      ]
    },
    {
      "cell_type": "code",
      "source": [
        "import requests\n",
        "url='https://raw.githubusercontent.com/NVDLI/LDL/main/pt_framework/utilities.py'\n",
        "r=requests.get(url)\n",
        "\n",
        "with open('utilities.py', 'w') as f:\n",
        "  f.write(r.text)"
      ],
      "metadata": {
        "id": "TwgQsLEEaVqB"
      },
      "execution_count": null,
      "outputs": []
    },
    {
      "cell_type": "code",
      "source": [
        "import torch\n",
        "import torch.nn as nn\n",
        "import torchvision\n",
        "import torchvision.transforms as transforms\n",
        "from torchvision.datasets import CIFAR10\n",
        "from torch.utils.data import DataLoader\n",
        "import numpy as np\n",
        "from utilities import train_model\n",
        "\n",
        "device = torch.device(\"cuda:0\" if torch.cuda.is_available() else \"cpu\")\n",
        "EPOCHS = 128\n",
        "BATCH_SIZE=32\n",
        "\n",
        "transform=transforms.Compose([transforms.ToTensor()])\n",
        "trainset=CIFAR10(root='./pt_data', train=True, download=True, transform=transform)\n",
        "trainloader=DataLoader(trainset, batch_size=len(trainset), shuffle=False)\n",
        "data=next(iter(trainloader))\n",
        "mean=data[0].mean()\n",
        "stddev=data[0].std()"
      ],
      "metadata": {
        "colab": {
          "base_uri": "https://localhost:8080/",
          "height": 105,
          "referenced_widgets": [
            "4d22509ac58340888c7e77e488595ac7",
            "e79f38787d104568b7fc7368b0db6782",
            "589cbf468d7b428db92486626e0e4bf1",
            "ae91a4c100c3467ca755d6a2e62a0b57",
            "e1ea54cced6e400f96ac42dc7f53316d",
            "b4032dab22364193b9adc37c0d8b31d7",
            "96f31da8fe95487195ae9bc9b3f0410b",
            "c9562c6f31bb499a9d307617f1226fb8",
            "83615069038b48fd8804e7fa9f586b1d",
            "67293374747e40faacee6a31fda9a9f7",
            "03ee754e5d6e49669777f81785be1d9e"
          ]
        },
        "id": "v66P02AoacnT",
        "outputId": "6ebdbae1-955b-4e8c-8686-8c61f551ebbc"
      },
      "execution_count": null,
      "outputs": [
        {
          "output_type": "stream",
          "name": "stdout",
          "text": [
            "Downloading https://www.cs.toronto.edu/~kriz/cifar-10-python.tar.gz to ./pt_data/cifar-10-python.tar.gz\n"
          ]
        },
        {
          "output_type": "display_data",
          "data": {
            "text/plain": [
              "  0%|          | 0/170498071 [00:00<?, ?it/s]"
            ],
            "application/vnd.jupyter.widget-view+json": {
              "version_major": 2,
              "version_minor": 0,
              "model_id": "4d22509ac58340888c7e77e488595ac7"
            }
          },
          "metadata": {}
        },
        {
          "output_type": "stream",
          "name": "stdout",
          "text": [
            "Extracting ./pt_data/cifar-10-python.tar.gz to ./pt_data\n"
          ]
        }
      ]
    },
    {
      "cell_type": "code",
      "source": [
        "transform=transforms.Compose(\n",
        "    [transforms.ToTensor(),\n",
        "     transforms.Normalize(mean, stddev)])\n",
        "\n",
        "trainset=CIFAR10(root='./pt_data', train=True, download=True, transform=transform)\n",
        "testset=CIFAR10(root='./pt_data', train=False, download=True, transform=transform)\n",
        "\n",
        "model=nn.Sequential(\n",
        "    nn.Conv2d(3, 64, 5, stride=2, padding=2),\n",
        "    nn.ReLU(),\n",
        "    nn.Conv2d(64, 64, 3, stride=2, padding=1),\n",
        "    nn.ReLU(),\n",
        "    nn.Flatten(),\n",
        "    nn.Linear(64*8*8, 10)\n",
        ")"
      ],
      "metadata": {
        "colab": {
          "base_uri": "https://localhost:8080/"
        },
        "id": "4p0iA2oQagdA",
        "outputId": "7f9ff788-de01-4bd4-8b6d-7f6ff0a286f8"
      },
      "execution_count": null,
      "outputs": [
        {
          "output_type": "stream",
          "name": "stdout",
          "text": [
            "Files already downloaded and verified\n",
            "Files already downloaded and verified\n"
          ]
        }
      ]
    },
    {
      "cell_type": "code",
      "source": [
        "layers=next(model.modules())\n",
        "conv_layer0=layers[0]\n",
        "conv_layer1=layers[2]\n",
        "output_layer=layers[5]\n",
        "\n",
        "nn.init.kaiming_normal_(conv_layer0.weight)\n",
        "nn.init.constant_(conv_layer0.bias, 0.0)\n",
        "nn.init.kaiming_normal_(conv_layer1.weight)\n",
        "nn.init.constant_(conv_layer1.bias, 0.0)\n",
        "\n",
        "nn.init.xavier_uniform_(output_layer.weight)\n",
        "nn.init.constant_(output_layer.bias, 0.0)\n",
        "\n",
        "optimizer=torch.optim.Adam(model.parameters())\n",
        "loss_function=nn.CrossEntropyLoss()\n",
        "\n",
        "train_model(model, device, EPOCHS, BATCH_SIZE, trainset, testset, optimizer, loss_function, 'acc')"
      ],
      "metadata": {
        "colab": {
          "base_uri": "https://localhost:8080/"
        },
        "id": "Xr8H-m02ao_v",
        "outputId": "19d98994-307a-4b21-a4c5-6217e3006ed6"
      },
      "execution_count": null,
      "outputs": [
        {
          "output_type": "stream",
          "name": "stdout",
          "text": [
            "Epoch 1/128 loss: 1.4065 - acc: 0.5057 - val_loss: 1.2053 - val_acc: 0.5768\n",
            "Epoch 2/128 loss: 1.0668 - acc: 0.6280 - val_loss: 1.0819 - val_acc: 0.6218\n",
            "Epoch 3/128 loss: 0.9282 - acc: 0.6764 - val_loss: 1.0554 - val_acc: 0.6339\n",
            "Epoch 4/128 loss: 0.8311 - acc: 0.7109 - val_loss: 1.0314 - val_acc: 0.6485\n",
            "Epoch 5/128 loss: 0.7485 - acc: 0.7404 - val_loss: 1.0961 - val_acc: 0.6420\n",
            "Epoch 6/128 loss: 0.6792 - acc: 0.7609 - val_loss: 1.1131 - val_acc: 0.6450\n",
            "Epoch 7/128 loss: 0.6168 - acc: 0.7846 - val_loss: 1.1544 - val_acc: 0.6487\n",
            "Epoch 8/128 loss: 0.5617 - acc: 0.8020 - val_loss: 1.1958 - val_acc: 0.6448\n",
            "Epoch 9/128 loss: 0.5138 - acc: 0.8188 - val_loss: 1.2780 - val_acc: 0.6445\n",
            "Epoch 10/128 loss: 0.4715 - acc: 0.8336 - val_loss: 1.3078 - val_acc: 0.6416\n",
            "Epoch 11/128 loss: 0.4338 - acc: 0.8454 - val_loss: 1.3813 - val_acc: 0.6425\n",
            "Epoch 12/128 loss: 0.3932 - acc: 0.8610 - val_loss: 1.4966 - val_acc: 0.6354\n",
            "Epoch 13/128 loss: 0.3636 - acc: 0.8725 - val_loss: 1.6112 - val_acc: 0.6347\n",
            "Epoch 14/128 loss: 0.3408 - acc: 0.8774 - val_loss: 1.6742 - val_acc: 0.6289\n",
            "Epoch 15/128 loss: 0.3142 - acc: 0.8861 - val_loss: 1.7480 - val_acc: 0.6264\n",
            "Epoch 16/128 loss: 0.2952 - acc: 0.8943 - val_loss: 1.8883 - val_acc: 0.6214\n",
            "Epoch 17/128 loss: 0.2759 - acc: 0.9010 - val_loss: 1.9354 - val_acc: 0.6255\n",
            "Epoch 18/128 loss: 0.2580 - acc: 0.9065 - val_loss: 2.0603 - val_acc: 0.6259\n",
            "Epoch 19/128 loss: 0.2367 - acc: 0.9141 - val_loss: 2.1000 - val_acc: 0.6229\n",
            "Epoch 20/128 loss: 0.2314 - acc: 0.9167 - val_loss: 2.1900 - val_acc: 0.6309\n",
            "Epoch 21/128 loss: 0.2163 - acc: 0.9230 - val_loss: 2.3740 - val_acc: 0.6166\n",
            "Epoch 22/128 loss: 0.2101 - acc: 0.9242 - val_loss: 2.4577 - val_acc: 0.6236\n",
            "Epoch 23/128 loss: 0.2021 - acc: 0.9272 - val_loss: 2.5326 - val_acc: 0.6253\n",
            "Epoch 24/128 loss: 0.1856 - acc: 0.9330 - val_loss: 2.6538 - val_acc: 0.6203\n",
            "Epoch 25/128 loss: 0.1891 - acc: 0.9315 - val_loss: 2.6952 - val_acc: 0.6262\n",
            "Epoch 26/128 loss: 0.1757 - acc: 0.9370 - val_loss: 2.8505 - val_acc: 0.6204\n",
            "Epoch 27/128 loss: 0.1769 - acc: 0.9369 - val_loss: 2.8934 - val_acc: 0.6194\n",
            "Epoch 28/128 loss: 0.1658 - acc: 0.9399 - val_loss: 3.0251 - val_acc: 0.6242\n",
            "Epoch 29/128 loss: 0.1618 - acc: 0.9419 - val_loss: 3.1066 - val_acc: 0.6205\n",
            "Epoch 30/128 loss: 0.1559 - acc: 0.9444 - val_loss: 3.2580 - val_acc: 0.6127\n",
            "Epoch 31/128 loss: 0.1613 - acc: 0.9438 - val_loss: 3.3020 - val_acc: 0.6107\n",
            "Epoch 32/128 loss: 0.1539 - acc: 0.9448 - val_loss: 3.5012 - val_acc: 0.6205\n",
            "Epoch 33/128 loss: 0.1585 - acc: 0.9458 - val_loss: 3.6383 - val_acc: 0.6153\n",
            "Epoch 34/128 loss: 0.1438 - acc: 0.9503 - val_loss: 3.7175 - val_acc: 0.6154\n",
            "Epoch 35/128 loss: 0.1493 - acc: 0.9482 - val_loss: 3.6920 - val_acc: 0.6171\n",
            "Epoch 36/128 loss: 0.1408 - acc: 0.9515 - val_loss: 3.8922 - val_acc: 0.6156\n",
            "Epoch 37/128 loss: 0.1453 - acc: 0.9507 - val_loss: 3.9532 - val_acc: 0.6218\n",
            "Epoch 38/128 loss: 0.1473 - acc: 0.9505 - val_loss: 4.0882 - val_acc: 0.6107\n",
            "Epoch 39/128 loss: 0.1366 - acc: 0.9541 - val_loss: 4.0282 - val_acc: 0.6166\n",
            "Epoch 40/128 loss: 0.1388 - acc: 0.9537 - val_loss: 4.1947 - val_acc: 0.6070\n",
            "Epoch 41/128 loss: 0.1432 - acc: 0.9521 - val_loss: 4.1389 - val_acc: 0.6213\n",
            "Epoch 42/128 loss: 0.1360 - acc: 0.9548 - val_loss: 4.3643 - val_acc: 0.6192\n",
            "Epoch 43/128 loss: 0.1395 - acc: 0.9546 - val_loss: 4.3083 - val_acc: 0.6194\n",
            "Epoch 44/128 loss: 0.1348 - acc: 0.9571 - val_loss: 4.5353 - val_acc: 0.6150\n",
            "Epoch 45/128 loss: 0.1449 - acc: 0.9540 - val_loss: 4.5379 - val_acc: 0.6091\n",
            "Epoch 46/128 loss: 0.1214 - acc: 0.9598 - val_loss: 4.7458 - val_acc: 0.6167\n",
            "Epoch 47/128 loss: 0.1344 - acc: 0.9577 - val_loss: 4.8879 - val_acc: 0.6238\n",
            "Epoch 48/128 loss: 0.1412 - acc: 0.9573 - val_loss: 4.8129 - val_acc: 0.6137\n",
            "Epoch 49/128 loss: 0.1330 - acc: 0.9590 - val_loss: 4.8260 - val_acc: 0.6165\n",
            "Epoch 50/128 loss: 0.1293 - acc: 0.9594 - val_loss: 5.0251 - val_acc: 0.6184\n",
            "Epoch 51/128 loss: 0.1243 - acc: 0.9612 - val_loss: 5.1688 - val_acc: 0.6192\n",
            "Epoch 52/128 loss: 0.1287 - acc: 0.9603 - val_loss: 5.3111 - val_acc: 0.6087\n",
            "Epoch 53/128 loss: 0.1280 - acc: 0.9606 - val_loss: 5.2663 - val_acc: 0.6100\n",
            "Epoch 54/128 loss: 0.1463 - acc: 0.9580 - val_loss: 5.3559 - val_acc: 0.6169\n",
            "Epoch 55/128 loss: 0.1313 - acc: 0.9617 - val_loss: 5.5818 - val_acc: 0.6189\n",
            "Epoch 56/128 loss: 0.1248 - acc: 0.9634 - val_loss: 5.5866 - val_acc: 0.6195\n",
            "Epoch 57/128 loss: 0.1244 - acc: 0.9635 - val_loss: 5.6631 - val_acc: 0.6143\n",
            "Epoch 58/128 loss: 0.1293 - acc: 0.9627 - val_loss: 5.7807 - val_acc: 0.6170\n",
            "Epoch 59/128 loss: 0.1240 - acc: 0.9632 - val_loss: 6.0247 - val_acc: 0.6087\n",
            "Epoch 60/128 loss: 0.1355 - acc: 0.9619 - val_loss: 5.8282 - val_acc: 0.6175\n",
            "Epoch 61/128 loss: 0.1211 - acc: 0.9651 - val_loss: 6.1435 - val_acc: 0.6168\n",
            "Epoch 62/128 loss: 0.1389 - acc: 0.9620 - val_loss: 6.2561 - val_acc: 0.6161\n",
            "Epoch 63/128 loss: 0.1334 - acc: 0.9633 - val_loss: 6.3734 - val_acc: 0.6231\n",
            "Epoch 64/128 loss: 0.1261 - acc: 0.9661 - val_loss: 6.4870 - val_acc: 0.6146\n",
            "Epoch 65/128 loss: 0.1281 - acc: 0.9648 - val_loss: 6.3411 - val_acc: 0.6161\n",
            "Epoch 66/128 loss: 0.1270 - acc: 0.9650 - val_loss: 6.4692 - val_acc: 0.6072\n",
            "Epoch 67/128 loss: 0.1392 - acc: 0.9643 - val_loss: 6.5428 - val_acc: 0.6123\n",
            "Epoch 68/128 loss: 0.1333 - acc: 0.9646 - val_loss: 6.6753 - val_acc: 0.6109\n",
            "Epoch 69/128 loss: 0.1236 - acc: 0.9667 - val_loss: 6.7623 - val_acc: 0.6155\n",
            "Epoch 70/128 loss: 0.1279 - acc: 0.9662 - val_loss: 6.7917 - val_acc: 0.6116\n",
            "Epoch 71/128 loss: 0.1313 - acc: 0.9660 - val_loss: 6.9851 - val_acc: 0.6167\n",
            "Epoch 72/128 loss: 0.1215 - acc: 0.9687 - val_loss: 6.9768 - val_acc: 0.6163\n",
            "Epoch 73/128 loss: 0.1266 - acc: 0.9673 - val_loss: 7.1814 - val_acc: 0.6169\n",
            "Epoch 74/128 loss: 0.1314 - acc: 0.9664 - val_loss: 7.1930 - val_acc: 0.6137\n",
            "Epoch 75/128 loss: 0.1273 - acc: 0.9675 - val_loss: 7.2542 - val_acc: 0.6176\n",
            "Epoch 76/128 loss: 0.1260 - acc: 0.9697 - val_loss: 7.3022 - val_acc: 0.6134\n",
            "Epoch 77/128 loss: 0.1380 - acc: 0.9667 - val_loss: 7.5757 - val_acc: 0.6029\n",
            "Epoch 78/128 loss: 0.1232 - acc: 0.9694 - val_loss: 7.6050 - val_acc: 0.6134\n",
            "Epoch 79/128 loss: 0.1386 - acc: 0.9670 - val_loss: 7.6902 - val_acc: 0.6132\n",
            "Epoch 80/128 loss: 0.1228 - acc: 0.9694 - val_loss: 8.1129 - val_acc: 0.6101\n",
            "Epoch 81/128 loss: 0.1325 - acc: 0.9673 - val_loss: 7.8529 - val_acc: 0.6111\n",
            "Epoch 82/128 loss: 0.1376 - acc: 0.9679 - val_loss: 7.9009 - val_acc: 0.6148\n",
            "Epoch 83/128 loss: 0.1232 - acc: 0.9700 - val_loss: 8.2402 - val_acc: 0.6159\n",
            "Epoch 84/128 loss: 0.1258 - acc: 0.9695 - val_loss: 8.3925 - val_acc: 0.6039\n",
            "Epoch 85/128 loss: 0.1367 - acc: 0.9682 - val_loss: 8.2331 - val_acc: 0.6156\n",
            "Epoch 86/128 loss: 0.1232 - acc: 0.9714 - val_loss: 8.3655 - val_acc: 0.6163\n",
            "Epoch 87/128 loss: 0.1334 - acc: 0.9692 - val_loss: 8.7093 - val_acc: 0.6130\n",
            "Epoch 88/128 loss: 0.1275 - acc: 0.9701 - val_loss: 8.7541 - val_acc: 0.6116\n",
            "Epoch 89/128 loss: 0.1294 - acc: 0.9707 - val_loss: 8.5846 - val_acc: 0.6122\n",
            "Epoch 90/128 loss: 0.1276 - acc: 0.9708 - val_loss: 8.7935 - val_acc: 0.6082\n",
            "Epoch 91/128 loss: 0.1411 - acc: 0.9691 - val_loss: 8.8897 - val_acc: 0.6101\n",
            "Epoch 92/128 loss: 0.1176 - acc: 0.9734 - val_loss: 8.9221 - val_acc: 0.6170\n",
            "Epoch 93/128 loss: 0.1320 - acc: 0.9712 - val_loss: 8.9207 - val_acc: 0.6085\n",
            "Epoch 94/128 loss: 0.1389 - acc: 0.9697 - val_loss: 9.2685 - val_acc: 0.6068\n",
            "Epoch 95/128 loss: 0.1207 - acc: 0.9723 - val_loss: 9.2495 - val_acc: 0.6090\n",
            "Epoch 96/128 loss: 0.1355 - acc: 0.9705 - val_loss: 9.4925 - val_acc: 0.6077\n",
            "Epoch 97/128 loss: 0.1358 - acc: 0.9709 - val_loss: 9.6264 - val_acc: 0.6159\n",
            "Epoch 98/128 loss: 0.1295 - acc: 0.9723 - val_loss: 9.5631 - val_acc: 0.6114\n",
            "Epoch 99/128 loss: 0.1324 - acc: 0.9720 - val_loss: 9.8575 - val_acc: 0.6057\n",
            "Epoch 100/128 loss: 0.1343 - acc: 0.9724 - val_loss: 9.8886 - val_acc: 0.6122\n",
            "Epoch 101/128 loss: 0.1321 - acc: 0.9723 - val_loss: 10.0666 - val_acc: 0.6146\n",
            "Epoch 102/128 loss: 0.1383 - acc: 0.9720 - val_loss: 9.9995 - val_acc: 0.6105\n",
            "Epoch 103/128 loss: 0.1253 - acc: 0.9742 - val_loss: 9.9858 - val_acc: 0.6151\n",
            "Epoch 104/128 loss: 0.1427 - acc: 0.9716 - val_loss: 10.1807 - val_acc: 0.6141\n",
            "Epoch 105/128 loss: 0.1336 - acc: 0.9733 - val_loss: 10.4156 - val_acc: 0.6099\n",
            "Epoch 106/128 loss: 0.1154 - acc: 0.9755 - val_loss: 10.4858 - val_acc: 0.6087\n",
            "Epoch 107/128 loss: 0.1449 - acc: 0.9718 - val_loss: 10.6659 - val_acc: 0.6157\n",
            "Epoch 108/128 loss: 0.1249 - acc: 0.9753 - val_loss: 10.7957 - val_acc: 0.6084\n",
            "Epoch 109/128 loss: 0.1479 - acc: 0.9723 - val_loss: 10.9963 - val_acc: 0.6118\n",
            "Epoch 110/128 loss: 0.1409 - acc: 0.9735 - val_loss: 10.9855 - val_acc: 0.6127\n",
            "Epoch 111/128 loss: 0.1351 - acc: 0.9733 - val_loss: 11.2926 - val_acc: 0.6117\n",
            "Epoch 112/128 loss: 0.1260 - acc: 0.9753 - val_loss: 11.3002 - val_acc: 0.6166\n",
            "Epoch 113/128 loss: 0.1369 - acc: 0.9736 - val_loss: 11.3988 - val_acc: 0.6075\n",
            "Epoch 114/128 loss: 0.1430 - acc: 0.9731 - val_loss: 11.2979 - val_acc: 0.6162\n",
            "Epoch 115/128 loss: 0.1257 - acc: 0.9764 - val_loss: 11.4830 - val_acc: 0.6117\n",
            "Epoch 116/128 loss: 0.1444 - acc: 0.9741 - val_loss: 11.7300 - val_acc: 0.6157\n",
            "Epoch 117/128 loss: 0.1350 - acc: 0.9749 - val_loss: 11.3907 - val_acc: 0.6061\n",
            "Epoch 118/128 loss: 0.1294 - acc: 0.9755 - val_loss: 11.9371 - val_acc: 0.6124\n",
            "Epoch 119/128 loss: 0.1328 - acc: 0.9752 - val_loss: 12.1813 - val_acc: 0.6072\n",
            "Epoch 120/128 loss: 0.1397 - acc: 0.9756 - val_loss: 12.3441 - val_acc: 0.6082\n",
            "Epoch 121/128 loss: 0.1254 - acc: 0.9767 - val_loss: 12.6164 - val_acc: 0.6099\n",
            "Epoch 122/128 loss: 0.1553 - acc: 0.9735 - val_loss: 12.1224 - val_acc: 0.6114\n",
            "Epoch 123/128 loss: 0.1298 - acc: 0.9762 - val_loss: 12.4313 - val_acc: 0.6102\n",
            "Epoch 124/128 loss: 0.1359 - acc: 0.9759 - val_loss: 12.5244 - val_acc: 0.6110\n",
            "Epoch 125/128 loss: 0.1254 - acc: 0.9769 - val_loss: 12.5449 - val_acc: 0.6056\n",
            "Epoch 126/128 loss: 0.1360 - acc: 0.9757 - val_loss: 12.8821 - val_acc: 0.6090\n",
            "Epoch 127/128 loss: 0.1420 - acc: 0.9760 - val_loss: 12.9839 - val_acc: 0.6126\n",
            "Epoch 128/128 loss: 0.1335 - acc: 0.9766 - val_loss: 13.1425 - val_acc: 0.6079\n"
          ]
        },
        {
          "output_type": "execute_result",
          "data": {
            "text/plain": [
              "[0.9765874920025592, 0.6079273162939297]"
            ]
          },
          "metadata": {},
          "execution_count": 6
        }
      ]
    },
    {
      "cell_type": "code",
      "source": [],
      "metadata": {
        "id": "_Qcl5aZhauJu"
      },
      "execution_count": null,
      "outputs": []
    }
  ]
}